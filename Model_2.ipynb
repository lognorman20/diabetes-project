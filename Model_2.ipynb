{
 "metadata": {
  "language_info": {
   "codemirror_mode": {
    "name": "ipython",
    "version": 3
   },
   "file_extension": ".py",
   "mimetype": "text/x-python",
   "name": "python",
   "nbconvert_exporter": "python",
   "pygments_lexer": "ipython3",
   "version": "3.8.5-final"
  },
  "orig_nbformat": 2,
  "kernelspec": {
   "name": "python_defaultSpec_1599015553089",
   "display_name": "Python 3.8.5 64-bit"
  }
 },
 "nbformat": 4,
 "nbformat_minor": 2,
 "cells": [
  {
   "cell_type": "code",
   "execution_count": 95,
   "metadata": {},
   "outputs": [],
   "source": [
    "import pandas as pd\n",
    "import numpy as np\n",
    "import seaborn as sns\n",
    "import matplotlib.pyplot as plt\n",
    "import matplotlib.ticker as plticker\n",
    "%matplotlib inline"
   ]
  },
  {
   "cell_type": "code",
   "execution_count": 96,
   "metadata": {},
   "outputs": [],
   "source": [
    "data = pd.read_csv('/Users/logno/Documents/GitHub/diabetes-project/diabetes.csv')\n",
    "df = data.copy()"
   ]
  },
  {
   "cell_type": "markdown",
   "metadata": {},
   "source": [
    "# Broad overview of the data"
   ]
  },
  {
   "cell_type": "code",
   "execution_count": 97,
   "metadata": {},
   "outputs": [
    {
     "output_type": "execute_result",
     "data": {
      "text/plain": "     Pregnancies  Glucose  BloodPressure  SkinThickness  Insulin   BMI  \\\n0              6      148             72             35        0  33.6   \n1              1       85             66             29        0  26.6   \n2              8      183             64              0        0  23.3   \n3              1       89             66             23       94  28.1   \n4              0      137             40             35      168  43.1   \n..           ...      ...            ...            ...      ...   ...   \n763           10      101             76             48      180  32.9   \n764            2      122             70             27        0  36.8   \n765            5      121             72             23      112  26.2   \n766            1      126             60              0        0  30.1   \n767            1       93             70             31        0  30.4   \n\n     DiabetesPedigreeFunction  Age  Outcome  \n0                       0.627   50        1  \n1                       0.351   31        0  \n2                       0.672   32        1  \n3                       0.167   21        0  \n4                       2.288   33        1  \n..                        ...  ...      ...  \n763                     0.171   63        0  \n764                     0.340   27        0  \n765                     0.245   30        0  \n766                     0.349   47        1  \n767                     0.315   23        0  \n\n[768 rows x 9 columns]",
      "text/html": "<div>\n<style scoped>\n    .dataframe tbody tr th:only-of-type {\n        vertical-align: middle;\n    }\n\n    .dataframe tbody tr th {\n        vertical-align: top;\n    }\n\n    .dataframe thead th {\n        text-align: right;\n    }\n</style>\n<table border=\"1\" class=\"dataframe\">\n  <thead>\n    <tr style=\"text-align: right;\">\n      <th></th>\n      <th>Pregnancies</th>\n      <th>Glucose</th>\n      <th>BloodPressure</th>\n      <th>SkinThickness</th>\n      <th>Insulin</th>\n      <th>BMI</th>\n      <th>DiabetesPedigreeFunction</th>\n      <th>Age</th>\n      <th>Outcome</th>\n    </tr>\n  </thead>\n  <tbody>\n    <tr>\n      <th>0</th>\n      <td>6</td>\n      <td>148</td>\n      <td>72</td>\n      <td>35</td>\n      <td>0</td>\n      <td>33.6</td>\n      <td>0.627</td>\n      <td>50</td>\n      <td>1</td>\n    </tr>\n    <tr>\n      <th>1</th>\n      <td>1</td>\n      <td>85</td>\n      <td>66</td>\n      <td>29</td>\n      <td>0</td>\n      <td>26.6</td>\n      <td>0.351</td>\n      <td>31</td>\n      <td>0</td>\n    </tr>\n    <tr>\n      <th>2</th>\n      <td>8</td>\n      <td>183</td>\n      <td>64</td>\n      <td>0</td>\n      <td>0</td>\n      <td>23.3</td>\n      <td>0.672</td>\n      <td>32</td>\n      <td>1</td>\n    </tr>\n    <tr>\n      <th>3</th>\n      <td>1</td>\n      <td>89</td>\n      <td>66</td>\n      <td>23</td>\n      <td>94</td>\n      <td>28.1</td>\n      <td>0.167</td>\n      <td>21</td>\n      <td>0</td>\n    </tr>\n    <tr>\n      <th>4</th>\n      <td>0</td>\n      <td>137</td>\n      <td>40</td>\n      <td>35</td>\n      <td>168</td>\n      <td>43.1</td>\n      <td>2.288</td>\n      <td>33</td>\n      <td>1</td>\n    </tr>\n    <tr>\n      <th>...</th>\n      <td>...</td>\n      <td>...</td>\n      <td>...</td>\n      <td>...</td>\n      <td>...</td>\n      <td>...</td>\n      <td>...</td>\n      <td>...</td>\n      <td>...</td>\n    </tr>\n    <tr>\n      <th>763</th>\n      <td>10</td>\n      <td>101</td>\n      <td>76</td>\n      <td>48</td>\n      <td>180</td>\n      <td>32.9</td>\n      <td>0.171</td>\n      <td>63</td>\n      <td>0</td>\n    </tr>\n    <tr>\n      <th>764</th>\n      <td>2</td>\n      <td>122</td>\n      <td>70</td>\n      <td>27</td>\n      <td>0</td>\n      <td>36.8</td>\n      <td>0.340</td>\n      <td>27</td>\n      <td>0</td>\n    </tr>\n    <tr>\n      <th>765</th>\n      <td>5</td>\n      <td>121</td>\n      <td>72</td>\n      <td>23</td>\n      <td>112</td>\n      <td>26.2</td>\n      <td>0.245</td>\n      <td>30</td>\n      <td>0</td>\n    </tr>\n    <tr>\n      <th>766</th>\n      <td>1</td>\n      <td>126</td>\n      <td>60</td>\n      <td>0</td>\n      <td>0</td>\n      <td>30.1</td>\n      <td>0.349</td>\n      <td>47</td>\n      <td>1</td>\n    </tr>\n    <tr>\n      <th>767</th>\n      <td>1</td>\n      <td>93</td>\n      <td>70</td>\n      <td>31</td>\n      <td>0</td>\n      <td>30.4</td>\n      <td>0.315</td>\n      <td>23</td>\n      <td>0</td>\n    </tr>\n  </tbody>\n</table>\n<p>768 rows × 9 columns</p>\n</div>"
     },
     "metadata": {},
     "execution_count": 97
    }
   ],
   "source": [
    "df"
   ]
  },
  {
   "cell_type": "code",
   "execution_count": 98,
   "metadata": {},
   "outputs": [
    {
     "output_type": "execute_result",
     "data": {
      "text/plain": "(768, 9)"
     },
     "metadata": {},
     "execution_count": 98
    }
   ],
   "source": [
    "df.shape"
   ]
  },
  {
   "cell_type": "code",
   "execution_count": 99,
   "metadata": {
    "tags": []
   },
   "outputs": [
    {
     "output_type": "stream",
     "name": "stdout",
     "text": "<class 'pandas.core.frame.DataFrame'>\nRangeIndex: 768 entries, 0 to 767\nData columns (total 9 columns):\n #   Column                    Non-Null Count  Dtype  \n---  ------                    --------------  -----  \n 0   Pregnancies               768 non-null    int64  \n 1   Glucose                   768 non-null    int64  \n 2   BloodPressure             768 non-null    int64  \n 3   SkinThickness             768 non-null    int64  \n 4   Insulin                   768 non-null    int64  \n 5   BMI                       768 non-null    float64\n 6   DiabetesPedigreeFunction  768 non-null    float64\n 7   Age                       768 non-null    int64  \n 8   Outcome                   768 non-null    int64  \ndtypes: float64(2), int64(7)\nmemory usage: 54.1 KB\n"
    }
   ],
   "source": [
    "df.info()"
   ]
  },
  {
   "cell_type": "code",
   "execution_count": 100,
   "metadata": {},
   "outputs": [
    {
     "output_type": "execute_result",
     "data": {
      "text/plain": "Pregnancies                 0\nGlucose                     0\nBloodPressure               0\nSkinThickness               0\nInsulin                     0\nBMI                         0\nDiabetesPedigreeFunction    0\nAge                         0\nOutcome                     0\ndtype: int64"
     },
     "metadata": {},
     "execution_count": 100
    }
   ],
   "source": [
    "df.isnull().sum()"
   ]
  },
  {
   "cell_type": "code",
   "execution_count": 101,
   "metadata": {},
   "outputs": [
    {
     "output_type": "execute_result",
     "data": {
      "text/plain": "       Pregnancies     Glucose  BloodPressure  SkinThickness     Insulin  \\\ncount   768.000000  768.000000     768.000000     768.000000  768.000000   \nmean      3.845052  120.894531      69.105469      20.536458   79.799479   \nstd       3.369578   31.972618      19.355807      15.952218  115.244002   \nmin       0.000000    0.000000       0.000000       0.000000    0.000000   \n25%       1.000000   99.000000      62.000000       0.000000    0.000000   \n50%       3.000000  117.000000      72.000000      23.000000   30.500000   \n75%       6.000000  140.250000      80.000000      32.000000  127.250000   \nmax      17.000000  199.000000     122.000000      99.000000  846.000000   \n\n              BMI  DiabetesPedigreeFunction         Age     Outcome  \ncount  768.000000                768.000000  768.000000  768.000000  \nmean    31.992578                  0.471876   33.240885    0.348958  \nstd      7.884160                  0.331329   11.760232    0.476951  \nmin      0.000000                  0.078000   21.000000    0.000000  \n25%     27.300000                  0.243750   24.000000    0.000000  \n50%     32.000000                  0.372500   29.000000    0.000000  \n75%     36.600000                  0.626250   41.000000    1.000000  \nmax     67.100000                  2.420000   81.000000    1.000000  ",
      "text/html": "<div>\n<style scoped>\n    .dataframe tbody tr th:only-of-type {\n        vertical-align: middle;\n    }\n\n    .dataframe tbody tr th {\n        vertical-align: top;\n    }\n\n    .dataframe thead th {\n        text-align: right;\n    }\n</style>\n<table border=\"1\" class=\"dataframe\">\n  <thead>\n    <tr style=\"text-align: right;\">\n      <th></th>\n      <th>Pregnancies</th>\n      <th>Glucose</th>\n      <th>BloodPressure</th>\n      <th>SkinThickness</th>\n      <th>Insulin</th>\n      <th>BMI</th>\n      <th>DiabetesPedigreeFunction</th>\n      <th>Age</th>\n      <th>Outcome</th>\n    </tr>\n  </thead>\n  <tbody>\n    <tr>\n      <th>count</th>\n      <td>768.000000</td>\n      <td>768.000000</td>\n      <td>768.000000</td>\n      <td>768.000000</td>\n      <td>768.000000</td>\n      <td>768.000000</td>\n      <td>768.000000</td>\n      <td>768.000000</td>\n      <td>768.000000</td>\n    </tr>\n    <tr>\n      <th>mean</th>\n      <td>3.845052</td>\n      <td>120.894531</td>\n      <td>69.105469</td>\n      <td>20.536458</td>\n      <td>79.799479</td>\n      <td>31.992578</td>\n      <td>0.471876</td>\n      <td>33.240885</td>\n      <td>0.348958</td>\n    </tr>\n    <tr>\n      <th>std</th>\n      <td>3.369578</td>\n      <td>31.972618</td>\n      <td>19.355807</td>\n      <td>15.952218</td>\n      <td>115.244002</td>\n      <td>7.884160</td>\n      <td>0.331329</td>\n      <td>11.760232</td>\n      <td>0.476951</td>\n    </tr>\n    <tr>\n      <th>min</th>\n      <td>0.000000</td>\n      <td>0.000000</td>\n      <td>0.000000</td>\n      <td>0.000000</td>\n      <td>0.000000</td>\n      <td>0.000000</td>\n      <td>0.078000</td>\n      <td>21.000000</td>\n      <td>0.000000</td>\n    </tr>\n    <tr>\n      <th>25%</th>\n      <td>1.000000</td>\n      <td>99.000000</td>\n      <td>62.000000</td>\n      <td>0.000000</td>\n      <td>0.000000</td>\n      <td>27.300000</td>\n      <td>0.243750</td>\n      <td>24.000000</td>\n      <td>0.000000</td>\n    </tr>\n    <tr>\n      <th>50%</th>\n      <td>3.000000</td>\n      <td>117.000000</td>\n      <td>72.000000</td>\n      <td>23.000000</td>\n      <td>30.500000</td>\n      <td>32.000000</td>\n      <td>0.372500</td>\n      <td>29.000000</td>\n      <td>0.000000</td>\n    </tr>\n    <tr>\n      <th>75%</th>\n      <td>6.000000</td>\n      <td>140.250000</td>\n      <td>80.000000</td>\n      <td>32.000000</td>\n      <td>127.250000</td>\n      <td>36.600000</td>\n      <td>0.626250</td>\n      <td>41.000000</td>\n      <td>1.000000</td>\n    </tr>\n    <tr>\n      <th>max</th>\n      <td>17.000000</td>\n      <td>199.000000</td>\n      <td>122.000000</td>\n      <td>99.000000</td>\n      <td>846.000000</td>\n      <td>67.100000</td>\n      <td>2.420000</td>\n      <td>81.000000</td>\n      <td>1.000000</td>\n    </tr>\n  </tbody>\n</table>\n</div>"
     },
     "metadata": {},
     "execution_count": 101
    }
   ],
   "source": [
    "df.describe()"
   ]
  },
  {
   "cell_type": "markdown",
   "metadata": {},
   "source": [
    "# Cleaning"
   ]
  },
  {
   "cell_type": "markdown",
   "metadata": {},
   "source": [
    "Despite there being no N/A values in this dataset, I believe that there are some values in certain columns that are incorrect. For example, it is impossible for a person to have an insulin value of zero, and if they did, that would be an issue. In this section, I will clean up these values and ensure that all of the data makes sense."
   ]
  },
  {
   "cell_type": "markdown",
   "metadata": {},
   "source": [
    "## Finding which columns to check"
   ]
  },
  {
   "cell_type": "code",
   "execution_count": 102,
   "metadata": {},
   "outputs": [
    {
     "output_type": "execute_result",
     "data": {
      "text/plain": "(5, 9)"
     },
     "metadata": {},
     "execution_count": 102
    }
   ],
   "source": [
    "df.loc[df['Glucose'] == 0].shape"
   ]
  },
  {
   "cell_type": "code",
   "execution_count": 103,
   "metadata": {},
   "outputs": [
    {
     "output_type": "execute_result",
     "data": {
      "text/plain": "(35, 9)"
     },
     "metadata": {},
     "execution_count": 103
    }
   ],
   "source": [
    "df.loc[df['BloodPressure'] == 0].shape"
   ]
  },
  {
   "cell_type": "code",
   "execution_count": 104,
   "metadata": {},
   "outputs": [
    {
     "output_type": "execute_result",
     "data": {
      "text/plain": "(11, 9)"
     },
     "metadata": {},
     "execution_count": 104
    }
   ],
   "source": [
    "df.loc[df['BMI'] == 0].shape"
   ]
  },
  {
   "cell_type": "code",
   "execution_count": 105,
   "metadata": {},
   "outputs": [
    {
     "output_type": "execute_result",
     "data": {
      "text/plain": "(0, 9)"
     },
     "metadata": {},
     "execution_count": 105
    }
   ],
   "source": [
    "df.loc[df['Age'] == 0].shape"
   ]
  },
  {
   "cell_type": "code",
   "execution_count": 106,
   "metadata": {},
   "outputs": [
    {
     "output_type": "execute_result",
     "data": {
      "text/plain": "(0, 9)"
     },
     "metadata": {},
     "execution_count": 106
    }
   ],
   "source": [
    "df.loc[df['DiabetesPedigreeFunction'] == 0].shape"
   ]
  },
  {
   "cell_type": "code",
   "execution_count": 107,
   "metadata": {},
   "outputs": [
    {
     "output_type": "execute_result",
     "data": {
      "text/plain": "138"
     },
     "metadata": {},
     "execution_count": 107
    }
   ],
   "source": [
    "bad_insulin = df.loc[df['Insulin'] == 0]\n",
    "ins = bad_insulin[['Insulin', 'Outcome']]\n",
    "ins['Outcome'].sum()"
   ]
  },
  {
   "cell_type": "markdown",
   "metadata": {},
   "source": [
    "It seems that the columns with the missing values are glucose, bloodpressure, and BMI. "
   ]
  },
  {
   "cell_type": "markdown",
   "metadata": {},
   "source": [
    "## Glucose"
   ]
  },
  {
   "cell_type": "code",
   "execution_count": 108,
   "metadata": {},
   "outputs": [
    {
     "output_type": "execute_result",
     "data": {
      "text/plain": "     Pregnancies  Glucose  BloodPressure  SkinThickness  Insulin   BMI  \\\n75             1        0             48             20        0  24.7   \n182            1        0             74             20       23  27.7   \n342            1        0             68             35        0  32.0   \n349            5        0             80             32        0  41.0   \n502            6        0             68             41        0  39.0   \n\n     DiabetesPedigreeFunction  Age  Outcome  \n75                      0.140   22        0  \n182                     0.299   21        0  \n342                     0.389   22        0  \n349                     0.346   37        1  \n502                     0.727   41        1  ",
      "text/html": "<div>\n<style scoped>\n    .dataframe tbody tr th:only-of-type {\n        vertical-align: middle;\n    }\n\n    .dataframe tbody tr th {\n        vertical-align: top;\n    }\n\n    .dataframe thead th {\n        text-align: right;\n    }\n</style>\n<table border=\"1\" class=\"dataframe\">\n  <thead>\n    <tr style=\"text-align: right;\">\n      <th></th>\n      <th>Pregnancies</th>\n      <th>Glucose</th>\n      <th>BloodPressure</th>\n      <th>SkinThickness</th>\n      <th>Insulin</th>\n      <th>BMI</th>\n      <th>DiabetesPedigreeFunction</th>\n      <th>Age</th>\n      <th>Outcome</th>\n    </tr>\n  </thead>\n  <tbody>\n    <tr>\n      <th>75</th>\n      <td>1</td>\n      <td>0</td>\n      <td>48</td>\n      <td>20</td>\n      <td>0</td>\n      <td>24.7</td>\n      <td>0.140</td>\n      <td>22</td>\n      <td>0</td>\n    </tr>\n    <tr>\n      <th>182</th>\n      <td>1</td>\n      <td>0</td>\n      <td>74</td>\n      <td>20</td>\n      <td>23</td>\n      <td>27.7</td>\n      <td>0.299</td>\n      <td>21</td>\n      <td>0</td>\n    </tr>\n    <tr>\n      <th>342</th>\n      <td>1</td>\n      <td>0</td>\n      <td>68</td>\n      <td>35</td>\n      <td>0</td>\n      <td>32.0</td>\n      <td>0.389</td>\n      <td>22</td>\n      <td>0</td>\n    </tr>\n    <tr>\n      <th>349</th>\n      <td>5</td>\n      <td>0</td>\n      <td>80</td>\n      <td>32</td>\n      <td>0</td>\n      <td>41.0</td>\n      <td>0.346</td>\n      <td>37</td>\n      <td>1</td>\n    </tr>\n    <tr>\n      <th>502</th>\n      <td>6</td>\n      <td>0</td>\n      <td>68</td>\n      <td>41</td>\n      <td>0</td>\n      <td>39.0</td>\n      <td>0.727</td>\n      <td>41</td>\n      <td>1</td>\n    </tr>\n  </tbody>\n</table>\n</div>"
     },
     "metadata": {},
     "execution_count": 108
    }
   ],
   "source": [
    "# Finding the rows that have a glucose of 0\n",
    "df.loc[df['Glucose'] == 0]"
   ]
  },
  {
   "cell_type": "markdown",
   "metadata": {},
   "source": [
    "Since there are only 5 rows, I think that it would be best to drop them."
   ]
  },
  {
   "cell_type": "code",
   "execution_count": 109,
   "metadata": {},
   "outputs": [],
   "source": [
    "# Dropping the problem rows and creating a new dataframe\n",
    "df = df.drop(df.index[[75,182,342,349,502]])"
   ]
  },
  {
   "cell_type": "code",
   "execution_count": 110,
   "metadata": {},
   "outputs": [
    {
     "output_type": "execute_result",
     "data": {
      "text/plain": "(0, 9)"
     },
     "metadata": {},
     "execution_count": 110
    }
   ],
   "source": [
    "# Checking if the values were dropped\n",
    "df.loc[df['Glucose'] == 0].shape"
   ]
  },
  {
   "cell_type": "markdown",
   "metadata": {},
   "source": [
    "## Insulin"
   ]
  },
  {
   "cell_type": "code",
   "execution_count": 111,
   "metadata": {},
   "outputs": [
    {
     "output_type": "execute_result",
     "data": {
      "text/plain": "(370, 9)"
     },
     "metadata": {},
     "execution_count": 111
    }
   ],
   "source": [
    "df.loc[df['Insulin'] == 0].shape"
   ]
  },
  {
   "cell_type": "code",
   "execution_count": 112,
   "metadata": {},
   "outputs": [
    {
     "output_type": "execute_result",
     "data": {
      "text/plain": "370"
     },
     "metadata": {},
     "execution_count": 112
    }
   ],
   "source": [
    "# Finding how many null values there are\n",
    "df['Insulin'] = df['Insulin'].replace({0: np.nan})\n",
    "df['Insulin'].isnull().sum()"
   ]
  },
  {
   "cell_type": "code",
   "execution_count": 113,
   "metadata": {},
   "outputs": [
    {
     "output_type": "execute_result",
     "data": {
      "text/plain": "0"
     },
     "metadata": {},
     "execution_count": 113
    }
   ],
   "source": [
    "# Imputing values\n",
    "from sklearn.impute import SimpleImputer\n",
    "imp = SimpleImputer(strategy='median')\n",
    "\n",
    "df[\"Insulin\"] = imp.fit_transform(df[[\"Insulin\"]]).ravel()\n",
    "df['Insulin'].isnull().sum()"
   ]
  },
  {
   "cell_type": "markdown",
   "metadata": {},
   "source": [
    "## Blood Pressure"
   ]
  },
  {
   "cell_type": "code",
   "execution_count": 114,
   "metadata": {},
   "outputs": [
    {
     "output_type": "execute_result",
     "data": {
      "text/plain": "count    763.000000\nmean      69.115334\nstd       19.399240\nmin        0.000000\n25%       62.000000\n50%       72.000000\n75%       80.000000\nmax      122.000000\nName: BloodPressure, dtype: float64"
     },
     "metadata": {},
     "execution_count": 114
    }
   ],
   "source": [
    "df['BloodPressure'].describe()"
   ]
  },
  {
   "cell_type": "code",
   "execution_count": 115,
   "metadata": {},
   "outputs": [
    {
     "output_type": "execute_result",
     "data": {
      "text/plain": "(35, 9)"
     },
     "metadata": {},
     "execution_count": 115
    }
   ],
   "source": [
    "df.loc[df['BloodPressure'] == 0].shape"
   ]
  },
  {
   "cell_type": "code",
   "execution_count": 116,
   "metadata": {},
   "outputs": [
    {
     "output_type": "execute_result",
     "data": {
      "text/plain": "35"
     },
     "metadata": {},
     "execution_count": 116
    }
   ],
   "source": [
    "# Finding how many null values there are\n",
    "df['BloodPressure'] = df['BloodPressure'].replace({0: np.nan})\n",
    "df['BloodPressure'].isnull().sum()"
   ]
  },
  {
   "cell_type": "markdown",
   "metadata": {},
   "source": [
    "Since there are a fair number of null values, I will impute them using the median."
   ]
  },
  {
   "cell_type": "code",
   "execution_count": 117,
   "metadata": {},
   "outputs": [
    {
     "output_type": "execute_result",
     "data": {
      "text/plain": "0"
     },
     "metadata": {},
     "execution_count": 117
    }
   ],
   "source": [
    "# Imputing values\n",
    "from sklearn.impute import SimpleImputer\n",
    "imp = SimpleImputer(strategy='median')\n",
    "\n",
    "df[\"BloodPressure\"] = imp.fit_transform(df[[\"BloodPressure\"]]).ravel()\n",
    "df['BloodPressure'].isnull().sum()"
   ]
  },
  {
   "cell_type": "markdown",
   "metadata": {},
   "source": [
    "## BMI"
   ]
  },
  {
   "cell_type": "code",
   "execution_count": 118,
   "metadata": {},
   "outputs": [
    {
     "output_type": "execute_result",
     "data": {
      "text/plain": "(11, 9)"
     },
     "metadata": {},
     "execution_count": 118
    }
   ],
   "source": [
    "df.loc[df['BMI'] == 0].shape"
   ]
  },
  {
   "cell_type": "code",
   "execution_count": 119,
   "metadata": {},
   "outputs": [
    {
     "output_type": "execute_result",
     "data": {
      "text/plain": "count    763.000000\nmean      31.986763\nstd        7.893221\nmin        0.000000\n25%       27.300000\n50%       32.000000\n75%       36.550000\nmax       67.100000\nName: BMI, dtype: float64"
     },
     "metadata": {},
     "execution_count": 119
    }
   ],
   "source": [
    "df['BMI'].describe()"
   ]
  },
  {
   "cell_type": "markdown",
   "metadata": {},
   "source": [
    "I will impute these values as well, just for fun. I can come back to this later."
   ]
  },
  {
   "cell_type": "code",
   "execution_count": 120,
   "metadata": {},
   "outputs": [
    {
     "output_type": "execute_result",
     "data": {
      "text/plain": "0"
     },
     "metadata": {},
     "execution_count": 120
    }
   ],
   "source": [
    "# Imputing values\n",
    "df[\"BMI\"] = imp.fit_transform(df[[\"BMI\"]]).ravel()\n",
    "df['BMI'].isnull().sum()"
   ]
  },
  {
   "cell_type": "markdown",
   "metadata": {},
   "source": [
    "Time to double check that I am done cleaning."
   ]
  },
  {
   "cell_type": "code",
   "execution_count": 121,
   "metadata": {},
   "outputs": [
    {
     "output_type": "execute_result",
     "data": {
      "text/plain": "Pregnancies                 0\nGlucose                     0\nBloodPressure               0\nSkinThickness               0\nInsulin                     0\nBMI                         0\nDiabetesPedigreeFunction    0\nAge                         0\nOutcome                     0\ndtype: int64"
     },
     "metadata": {},
     "execution_count": 121
    }
   ],
   "source": [
    "df.isnull().sum()"
   ]
  },
  {
   "cell_type": "code",
   "execution_count": 122,
   "metadata": {},
   "outputs": [
    {
     "output_type": "execute_result",
     "data": {
      "text/plain": "(763, 9)"
     },
     "metadata": {},
     "execution_count": 122
    }
   ],
   "source": [
    "df.shape"
   ]
  },
  {
   "cell_type": "markdown",
   "metadata": {},
   "source": [
    "# Building models"
   ]
  },
  {
   "cell_type": "code",
   "execution_count": 123,
   "metadata": {},
   "outputs": [],
   "source": [
    "# Creating my splits\n",
    "from sklearn.model_selection import train_test_split\n",
    "\n",
    "y = df.Outcome.values\n",
    "X = df.drop(['Outcome'], axis=1).values\n",
    "\n",
    "X_train, X_test, y_train, y_test = train_test_split(X, y, test_size = 0.20, random_state=27)"
   ]
  },
  {
   "cell_type": "code",
   "execution_count": 124,
   "metadata": {},
   "outputs": [],
   "source": [
    "# Scaling data\n",
    "from sklearn.preprocessing import StandardScaler\n",
    "sc_X = StandardScaler()\n",
    "X =  pd.DataFrame(sc_X.fit_transform(df.drop([\"Outcome\"],axis = 1),),\n",
    "        columns=['Pregnancies', 'Glucose', 'BloodPressure', 'SkinThickness', 'Insulin',\n",
    "       'BMI', 'DiabetesPedigreeFunction', 'Age'])"
   ]
  },
  {
   "cell_type": "markdown",
   "metadata": {},
   "source": [
    "## RandomForestClassifier"
   ]
  },
  {
   "cell_type": "code",
   "execution_count": 125,
   "metadata": {},
   "outputs": [
    {
     "output_type": "execute_result",
     "data": {
      "text/plain": "RandomForestClassifier(random_state=27)"
     },
     "metadata": {},
     "execution_count": 125
    }
   ],
   "source": [
    "# Building the base model\n",
    "from sklearn.ensemble import RandomForestClassifier\n",
    "rfm = RandomForestClassifier(random_state=27)\n",
    "rfm.fit(X_train, y_train.ravel())"
   ]
  },
  {
   "cell_type": "code",
   "execution_count": 126,
   "metadata": {
    "tags": []
   },
   "outputs": [
    {
     "output_type": "stream",
     "name": "stdout",
     "text": "Accuracy = 0.771\n"
    }
   ],
   "source": [
    "# Finding the model's predictions\n",
    "predictions = rfm.predict(X_test)\n",
    "\n",
    "from sklearn import metrics\n",
    "\n",
    "print(\"Accuracy = {0:.3f}\".format(metrics.accuracy_score(y_test, predictions)))"
   ]
  },
  {
   "cell_type": "markdown",
   "metadata": {},
   "source": [
    "I got an accuracy of 78%, which is not bad. I will test some other models and compare."
   ]
  },
  {
   "cell_type": "markdown",
   "metadata": {},
   "source": [
    "## XGBoostClassifier"
   ]
  },
  {
   "cell_type": "code",
   "execution_count": 127,
   "metadata": {
    "tags": []
   },
   "outputs": [
    {
     "output_type": "stream",
     "name": "stdout",
     "text": "The accuracy of the xgboost classifier is 1.00 out of 1 on the training data\nThe accuracy of the xgboost classifier is 0.78 out of 1 on the test data\n"
    }
   ],
   "source": [
    "# Building the model\n",
    "import xgboost as xgb\n",
    "xgb_classif = xgb.XGBClassifier()\n",
    "xgb_classif = xgb_classif.fit(X_train, y_train)\n",
    "\n",
    "print('The accuracy of the xgboost classifier is {:.2f} out of 1 on the training data'.format(xgb_classif.score(X_train, y_train)))\n",
    "print('The accuracy of the xgboost classifier is {:.2f} out of 1 on the test data'.format(xgb_classif.score(X_test, y_test)))"
   ]
  },
  {
   "cell_type": "markdown",
   "metadata": {},
   "source": [
    "XGBoost gave me an accuracy of 75%, not too bad either."
   ]
  },
  {
   "cell_type": "markdown",
   "metadata": {},
   "source": [
    "## KNN Classifier"
   ]
  },
  {
   "cell_type": "code",
   "execution_count": 128,
   "metadata": {},
   "outputs": [],
   "source": [
    "# Building the model\n",
    "from sklearn.neighbors import KNeighborsClassifier\n",
    "\n",
    "test_scores = []\n",
    "train_scores = []\n",
    "\n",
    "for i in range(1,15):\n",
    "\n",
    "    knn = KNeighborsClassifier(i)\n",
    "    knn.fit(X_train,y_train)\n",
    "    \n",
    "    train_scores.append(knn.score(X_train,y_train))\n",
    "    test_scores.append(knn.score(X_test,y_test))"
   ]
  },
  {
   "cell_type": "code",
   "execution_count": 129,
   "metadata": {
    "tags": []
   },
   "outputs": [
    {
     "output_type": "stream",
     "name": "stdout",
     "text": "Max train score 100.0 % and k = [1]\n"
    }
   ],
   "source": [
    "## score that comes from testing on the same datapoints that were used for training\n",
    "max_train_score = max(train_scores)\n",
    "train_scores_ind = [i for i, v in enumerate(train_scores) if v == max_train_score]\n",
    "print('Max train score {} % and k = {}'.format(max_train_score*100,list(map(lambda x: x+1, train_scores_ind))))"
   ]
  },
  {
   "cell_type": "code",
   "execution_count": 130,
   "metadata": {
    "tags": []
   },
   "outputs": [
    {
     "output_type": "stream",
     "name": "stdout",
     "text": "Max test score 76.47058823529412 % and k = [9]\n"
    }
   ],
   "source": [
    "## score that comes from testing on the datapoints that were split in the beginning to be used for testing solely\n",
    "max_test_score = max(test_scores)\n",
    "test_scores_ind = [i for i, v in enumerate(test_scores) if v == max_test_score]\n",
    "print('Max test score {} % and k = {}'.format(max_test_score*100,list(map(lambda x: x+1, test_scores_ind))))"
   ]
  },
  {
   "cell_type": "code",
   "execution_count": 131,
   "metadata": {},
   "outputs": [
    {
     "output_type": "execute_result",
     "data": {
      "text/plain": "0.7516339869281046"
     },
     "metadata": {},
     "execution_count": 131
    }
   ],
   "source": [
    "#Setup a knn classifier with k neighbors\n",
    "knn = KNeighborsClassifier(14)\n",
    "\n",
    "knn.fit(X_train,y_train)\n",
    "knn.score(X_test,y_test)"
   ]
  },
  {
   "cell_type": "code",
   "execution_count": 132,
   "metadata": {},
   "outputs": [
    {
     "output_type": "execute_result",
     "data": {
      "text/plain": "Predicted    0   1  All\nTrue                   \n0           86  10   96\n1           28  29   57\nAll        114  39  153",
      "text/html": "<div>\n<style scoped>\n    .dataframe tbody tr th:only-of-type {\n        vertical-align: middle;\n    }\n\n    .dataframe tbody tr th {\n        vertical-align: top;\n    }\n\n    .dataframe thead th {\n        text-align: right;\n    }\n</style>\n<table border=\"1\" class=\"dataframe\">\n  <thead>\n    <tr style=\"text-align: right;\">\n      <th>Predicted</th>\n      <th>0</th>\n      <th>1</th>\n      <th>All</th>\n    </tr>\n    <tr>\n      <th>True</th>\n      <th></th>\n      <th></th>\n      <th></th>\n    </tr>\n  </thead>\n  <tbody>\n    <tr>\n      <th>0</th>\n      <td>86</td>\n      <td>10</td>\n      <td>96</td>\n    </tr>\n    <tr>\n      <th>1</th>\n      <td>28</td>\n      <td>29</td>\n      <td>57</td>\n    </tr>\n    <tr>\n      <th>All</th>\n      <td>114</td>\n      <td>39</td>\n      <td>153</td>\n    </tr>\n  </tbody>\n</table>\n</div>"
     },
     "metadata": {},
     "execution_count": 132
    }
   ],
   "source": [
    "#import confusion_matrix\n",
    "from sklearn.metrics import confusion_matrix\n",
    "#let us get the predictions using the classifier we had fit above\n",
    "y_pred = knn.predict(X_test)\n",
    "confusion_matrix(y_test,y_pred)\n",
    "pd.crosstab(y_test, y_pred, rownames=['True'], colnames=['Predicted'], margins=True)"
   ]
  },
  {
   "cell_type": "code",
   "execution_count": 133,
   "metadata": {
    "tags": []
   },
   "outputs": [
    {
     "output_type": "stream",
     "name": "stdout",
     "text": "precision    recall  f1-score   support\n\n           0       0.75      0.90      0.82        96\n           1       0.74      0.51      0.60        57\n\n    accuracy                           0.75       153\n   macro avg       0.75      0.70      0.71       153\nweighted avg       0.75      0.75      0.74       153\n\n"
    }
   ],
   "source": [
    "# Classification_report\n",
    "from sklearn.metrics import classification_report\n",
    "print(classification_report(y_test,y_pred))"
   ]
  },
  {
   "cell_type": "markdown",
   "metadata": {},
   "source": [
    "The KNN Classifier got an accuracy of 76% with mostly true positives, which is good, but the random forest classifier still scored higher. I will now hyperparameter this model."
   ]
  },
  {
   "cell_type": "markdown",
   "metadata": {},
   "source": [
    "## Hyperparameters: RandomForestClassifier"
   ]
  },
  {
   "cell_type": "code",
   "execution_count": 134,
   "metadata": {
    "tags": []
   },
   "outputs": [
    {
     "output_type": "stream",
     "name": "stdout",
     "text": "Fitting 4 folds for each of 10 candidates, totalling 40 fits\n[CV] n_estimators=1200, min_samples_split=50, min_samples_leaf=10, max_depth=25 \n[Parallel(n_jobs=1)]: Using backend SequentialBackend with 1 concurrent workers.\n[CV]  n_estimators=1200, min_samples_split=50, min_samples_leaf=10, max_depth=25, score=0.758, total=   1.7s\n[CV] n_estimators=1200, min_samples_split=50, min_samples_leaf=10, max_depth=25 \n[Parallel(n_jobs=1)]: Done   1 out of   1 | elapsed:    1.7s remaining:    0.0s\n[CV]  n_estimators=1200, min_samples_split=50, min_samples_leaf=10, max_depth=25, score=0.765, total=   1.8s\n[CV] n_estimators=1200, min_samples_split=50, min_samples_leaf=10, max_depth=25 \n[Parallel(n_jobs=1)]: Done   2 out of   2 | elapsed:    3.5s remaining:    0.0s\n[CV]  n_estimators=1200, min_samples_split=50, min_samples_leaf=10, max_depth=25, score=0.796, total=   1.9s\n[CV] n_estimators=1200, min_samples_split=50, min_samples_leaf=10, max_depth=25 \n[Parallel(n_jobs=1)]: Done   3 out of   3 | elapsed:    5.4s remaining:    0.0s\n[CV]  n_estimators=1200, min_samples_split=50, min_samples_leaf=10, max_depth=25, score=0.743, total=   1.8s\n[CV] n_estimators=100, min_samples_split=50, min_samples_leaf=1, max_depth=30 \n[CV]  n_estimators=100, min_samples_split=50, min_samples_leaf=1, max_depth=30, score=0.765, total=   0.2s\n[CV] n_estimators=100, min_samples_split=50, min_samples_leaf=1, max_depth=30 \n[Parallel(n_jobs=1)]: Done   4 out of   4 | elapsed:    7.1s remaining:    0.0s\n[Parallel(n_jobs=1)]: Done   5 out of   5 | elapsed:    7.3s remaining:    0.0s\n[CV]  n_estimators=100, min_samples_split=50, min_samples_leaf=1, max_depth=30, score=0.758, total=   0.1s\n[CV] n_estimators=100, min_samples_split=50, min_samples_leaf=1, max_depth=30 \n[CV]  n_estimators=100, min_samples_split=50, min_samples_leaf=1, max_depth=30, score=0.776, total=   0.1s\n[CV] n_estimators=100, min_samples_split=50, min_samples_leaf=1, max_depth=30 \n[Parallel(n_jobs=1)]: Done   6 out of   6 | elapsed:    7.5s remaining:    0.0s\n[Parallel(n_jobs=1)]: Done   7 out of   7 | elapsed:    7.6s remaining:    0.0s\n[CV]  n_estimators=100, min_samples_split=50, min_samples_leaf=1, max_depth=30, score=0.757, total=   0.2s\n[CV] n_estimators=1200, min_samples_split=15, min_samples_leaf=2, max_depth=15 \n[Parallel(n_jobs=1)]: Done   8 out of   8 | elapsed:    7.8s remaining:    0.0s\n[CV]  n_estimators=1200, min_samples_split=15, min_samples_leaf=2, max_depth=15, score=0.771, total=   1.8s\n[CV] n_estimators=1200, min_samples_split=15, min_samples_leaf=2, max_depth=15 \n[Parallel(n_jobs=1)]: Done   9 out of   9 | elapsed:    9.6s remaining:    0.0s\n[CV]  n_estimators=1200, min_samples_split=15, min_samples_leaf=2, max_depth=15, score=0.771, total=   1.8s\n[CV] n_estimators=1200, min_samples_split=15, min_samples_leaf=2, max_depth=15 \n[CV]  n_estimators=1200, min_samples_split=15, min_samples_leaf=2, max_depth=15, score=0.783, total=   1.9s\n[CV] n_estimators=1200, min_samples_split=15, min_samples_leaf=2, max_depth=15 \n[CV]  n_estimators=1200, min_samples_split=15, min_samples_leaf=2, max_depth=15, score=0.763, total=   1.9s\n[CV] n_estimators=300, min_samples_split=5, min_samples_leaf=1, max_depth=5 \n[CV]  n_estimators=300, min_samples_split=5, min_samples_leaf=1, max_depth=5, score=0.771, total=   0.5s\n[CV] n_estimators=300, min_samples_split=5, min_samples_leaf=1, max_depth=5 \n[CV]  n_estimators=300, min_samples_split=5, min_samples_leaf=1, max_depth=5, score=0.758, total=   0.5s\n[CV] n_estimators=300, min_samples_split=5, min_samples_leaf=1, max_depth=5 \n[CV]  n_estimators=300, min_samples_split=5, min_samples_leaf=1, max_depth=5, score=0.789, total=   0.5s\n[CV] n_estimators=300, min_samples_split=5, min_samples_leaf=1, max_depth=5 \n[CV]  n_estimators=300, min_samples_split=5, min_samples_leaf=1, max_depth=5, score=0.743, total=   0.5s\n[CV] n_estimators=1200, min_samples_split=50, min_samples_leaf=5, max_depth=2 \n[CV]  n_estimators=1200, min_samples_split=50, min_samples_leaf=5, max_depth=2, score=0.752, total=   1.6s\n[CV] n_estimators=1200, min_samples_split=50, min_samples_leaf=5, max_depth=2 \n[CV]  n_estimators=1200, min_samples_split=50, min_samples_leaf=5, max_depth=2, score=0.752, total=   1.6s\n[CV] n_estimators=1200, min_samples_split=50, min_samples_leaf=5, max_depth=2 \n[CV]  n_estimators=1200, min_samples_split=50, min_samples_leaf=5, max_depth=2, score=0.743, total=   1.6s\n[CV] n_estimators=1200, min_samples_split=50, min_samples_leaf=5, max_depth=2 \n[CV]  n_estimators=1200, min_samples_split=50, min_samples_leaf=5, max_depth=2, score=0.730, total=   1.6s\n[CV] n_estimators=1200, min_samples_split=15, min_samples_leaf=1, max_depth=5 \n[CV]  n_estimators=1200, min_samples_split=15, min_samples_leaf=1, max_depth=5, score=0.771, total=   1.7s\n[CV] n_estimators=1200, min_samples_split=15, min_samples_leaf=1, max_depth=5 \n[CV]  n_estimators=1200, min_samples_split=15, min_samples_leaf=1, max_depth=5, score=0.745, total=   1.7s\n[CV] n_estimators=1200, min_samples_split=15, min_samples_leaf=1, max_depth=5 \n[CV]  n_estimators=1200, min_samples_split=15, min_samples_leaf=1, max_depth=5, score=0.789, total=   1.7s\n[CV] n_estimators=1200, min_samples_split=15, min_samples_leaf=1, max_depth=5 \n[CV]  n_estimators=1200, min_samples_split=15, min_samples_leaf=1, max_depth=5, score=0.757, total=   1.7s\n[CV] n_estimators=500, min_samples_split=2, min_samples_leaf=2, max_depth=30 \n[CV]  n_estimators=500, min_samples_split=2, min_samples_leaf=2, max_depth=30, score=0.784, total=   0.8s\n[CV] n_estimators=500, min_samples_split=2, min_samples_leaf=2, max_depth=30 \n[CV]  n_estimators=500, min_samples_split=2, min_samples_leaf=2, max_depth=30, score=0.765, total=   0.8s\n[CV] n_estimators=500, min_samples_split=2, min_samples_leaf=2, max_depth=30 \n[CV]  n_estimators=500, min_samples_split=2, min_samples_leaf=2, max_depth=30, score=0.763, total=   0.8s\n[CV] n_estimators=500, min_samples_split=2, min_samples_leaf=2, max_depth=30 \n[CV]  n_estimators=500, min_samples_split=2, min_samples_leaf=2, max_depth=30, score=0.783, total=   0.8s\n[CV] n_estimators=800, min_samples_split=15, min_samples_leaf=1, max_depth=25 \n[CV]  n_estimators=800, min_samples_split=15, min_samples_leaf=1, max_depth=25, score=0.771, total=   1.2s\n[CV] n_estimators=800, min_samples_split=15, min_samples_leaf=1, max_depth=25 \n[CV]  n_estimators=800, min_samples_split=15, min_samples_leaf=1, max_depth=25, score=0.771, total=   1.2s\n[CV] n_estimators=800, min_samples_split=15, min_samples_leaf=1, max_depth=25 \n[CV]  n_estimators=800, min_samples_split=15, min_samples_leaf=1, max_depth=25, score=0.776, total=   1.2s\n[CV] n_estimators=800, min_samples_split=15, min_samples_leaf=1, max_depth=25 \n[CV]  n_estimators=800, min_samples_split=15, min_samples_leaf=1, max_depth=25, score=0.763, total=   1.2s\n[CV] n_estimators=50, min_samples_split=2, min_samples_leaf=5, max_depth=2 \n[CV]  n_estimators=50, min_samples_split=2, min_samples_leaf=5, max_depth=2, score=0.752, total=   0.1s\n[CV] n_estimators=50, min_samples_split=2, min_samples_leaf=5, max_depth=2 \n[CV]  n_estimators=50, min_samples_split=2, min_samples_leaf=5, max_depth=2, score=0.758, total=   0.1s\n[CV] n_estimators=50, min_samples_split=2, min_samples_leaf=5, max_depth=2 \n[CV]  n_estimators=50, min_samples_split=2, min_samples_leaf=5, max_depth=2, score=0.737, total=   0.1s\n[CV] n_estimators=50, min_samples_split=2, min_samples_leaf=5, max_depth=2 \n[CV]  n_estimators=50, min_samples_split=2, min_samples_leaf=5, max_depth=2, score=0.724, total=   0.1s\n[CV] n_estimators=300, min_samples_split=5, min_samples_leaf=5, max_depth=1 \n[CV]  n_estimators=300, min_samples_split=5, min_samples_leaf=5, max_depth=1, score=0.667, total=   0.4s\n[CV] n_estimators=300, min_samples_split=5, min_samples_leaf=5, max_depth=1 \n[CV]  n_estimators=300, min_samples_split=5, min_samples_leaf=5, max_depth=1, score=0.686, total=   0.4s\n[CV] n_estimators=300, min_samples_split=5, min_samples_leaf=5, max_depth=1 \n[CV]  n_estimators=300, min_samples_split=5, min_samples_leaf=5, max_depth=1, score=0.704, total=   0.4s\n[CV] n_estimators=300, min_samples_split=5, min_samples_leaf=5, max_depth=1 \n[CV]  n_estimators=300, min_samples_split=5, min_samples_leaf=5, max_depth=1, score=0.704, total=   0.5s\n[Parallel(n_jobs=1)]: Done  40 out of  40 | elapsed:   40.3s finished\n"
    },
    {
     "output_type": "execute_result",
     "data": {
      "text/plain": "RandomizedSearchCV(cv=4, estimator=RandomForestClassifier(random_state=27),\n                   param_distributions={'max_depth': [1, 2, 3, 5, 8, 15, 25,\n                                                      30],\n                                        'min_samples_leaf': [1, 2, 5, 10, 20],\n                                        'min_samples_split': [2, 5, 10, 15, 50,\n                                                              100],\n                                        'n_estimators': [50, 100, 300, 500, 800,\n                                                         1200]},\n                   scoring='accuracy', verbose=10)"
     },
     "metadata": {},
     "execution_count": 134
    }
   ],
   "source": [
    "# Running randomsearch to find best parameters\n",
    "from sklearn.model_selection import RandomizedSearchCV\n",
    "\n",
    "n_estimators = [50,100, 300, 500, 800, 1200]\n",
    "max_depth = [1, 2 ,3 ,5, 8, 15, 25, 30]\n",
    "min_samples_split = [2, 5, 10, 15, 50, 100]\n",
    "min_samples_leaf = [1, 2, 5, 10, 20] \n",
    "\n",
    "hyperF = dict(n_estimators = n_estimators, \n",
    "              max_depth = max_depth,  \n",
    "              min_samples_split = min_samples_split, \n",
    "              min_samples_leaf = min_samples_leaf)\n",
    "\n",
    "rs = RandomizedSearchCV(rfm, hyperF, cv=4, scoring='accuracy',verbose=10)\n",
    "rs.fit(X_train, y_train)"
   ]
  },
  {
   "cell_type": "code",
   "execution_count": 135,
   "metadata": {},
   "outputs": [
    {
     "output_type": "execute_result",
     "data": {
      "text/plain": "0.7737680598555211"
     },
     "metadata": {},
     "execution_count": 135
    }
   ],
   "source": [
    "# Finding the accuracy of the refined model\n",
    "rs.best_score_"
   ]
  },
  {
   "cell_type": "code",
   "execution_count": 139,
   "metadata": {},
   "outputs": [
    {
     "output_type": "execute_result",
     "data": {
      "text/plain": "0.7720833333333333"
     },
     "metadata": {},
     "execution_count": 139
    }
   ],
   "source": [
    "# Building the improved model\n",
    "rfm = RandomForestClassifier(max_depth=25, min_samples_leaf=2, n_estimators=800,\n",
    "                       random_state=10)\n",
    "rfm.fit(X_train, y_train.ravel())\n",
    "\n",
    "preds = rfm.predict(X_test)\n",
    "\n",
    "from sklearn.model_selection import cross_val_score\n",
    "\n",
    "score = cross_val_score(rfm, X_test, y_test.ravel(), cv = 10)\n",
    "score.mean()"
   ]
  },
  {
   "cell_type": "markdown",
   "metadata": {},
   "source": [
    "## Gradient Boost Classifier"
   ]
  },
  {
   "cell_type": "code",
   "execution_count": 141,
   "metadata": {
    "tags": []
   },
   "outputs": [
    {
     "output_type": "stream",
     "name": "stdout",
     "text": "{'learning_rate': 0.05, 'max_depth': 4, 'max_features': 1}\n0.8318333333333334\n"
    }
   ],
   "source": [
    "# Building the model\n",
    "from sklearn.ensemble import GradientBoostingClassifier\n",
    "\n",
    "gbe = GradientBoostingClassifier(random_state=27)\n",
    "parameters={\n",
    "    'learning_rate': [0.05, 0.1, 0.5],\n",
    "    'max_features': [0.5, 1],\n",
    "    'max_depth': [3, 4, 5]\n",
    "}\n",
    "gridsearch=GridSearchCV(gbe,parameters,cv=100,scoring='roc_auc')\n",
    "gridsearch.fit(X_train,y_train)\n",
    "print(gridsearch.best_params_)\n",
    "print(gridsearch.best_score_)"
   ]
  },
  {
   "cell_type": "code",
   "execution_count": 189,
   "metadata": {},
   "outputs": [
    {
     "output_type": "execute_result",
     "data": {
      "text/plain": "0.85216"
     },
     "metadata": {},
     "execution_count": 189
    }
   ],
   "source": [
    "# The improved model\n",
    "final_model = GradientBoostingClassifier(learning_rate=0.05,max_depth=4,max_features=1,random_state=27)\n",
    "x_train,x_test,y_train,y_test = train_test_split(X,y,test_size = 0.20,random_state=27)\n",
    "final_model.fit(x_train,y_train)\n",
    "\n",
    "from sklearn.metrics import accuracy_score, roc_auc_score, roc_curve\n",
    "\n",
    "yprediction = final_model.predict_proba(x_test)[:,1]\n",
    "score = round(roc_auc_score(y_test,yprediction),5)\n",
    "score"
   ]
  },
  {
   "cell_type": "markdown",
   "metadata": {},
   "source": [
    "The Gradient Boost Classifier did much better than any of the other models! It is safe to say that I will be using this model for production."
   ]
  },
  {
   "cell_type": "markdown",
   "metadata": {},
   "source": [
    "# Saving the model"
   ]
  },
  {
   "cell_type": "code",
   "execution_count": 190,
   "metadata": {},
   "outputs": [],
   "source": [
    "import pickle\n",
    "saved_model = pickle.dumps(final_model) "
   ]
  },
  {
   "cell_type": "code",
   "execution_count": 191,
   "metadata": {},
   "outputs": [],
   "source": [
    "model_from_pickle = pickle.loads(saved_model) "
   ]
  },
  {
   "cell_type": "code",
   "execution_count": 192,
   "metadata": {},
   "outputs": [
    {
     "output_type": "execute_result",
     "data": {
      "text/plain": "array([0, 0, 0, 0, 1, 0, 0, 0, 0, 0, 1, 1, 0, 0, 0, 1, 0, 0, 1, 0, 0, 0,\n       0, 0, 0, 0, 0, 0, 0, 0, 0, 0, 1, 1, 0, 0, 0, 0, 0, 0, 0, 0, 1, 0,\n       0, 0, 1, 1, 0, 0, 0, 1, 0, 0, 0, 0, 1, 0, 1, 0, 0, 0, 0, 1, 1, 0,\n       1, 0, 1, 0, 1, 0, 1, 0, 0, 0, 0, 1, 0, 0, 0, 0, 0, 0, 0, 0, 1, 1,\n       1, 0, 1, 0, 1, 1, 1, 0, 1, 0, 1, 0, 0, 0, 0, 0, 1, 0, 0, 0, 0, 0,\n       1, 1, 0, 0, 0, 0, 1, 1, 0, 0, 0, 1, 1, 1, 0, 0, 0, 1, 1, 0, 0, 0,\n       0, 1, 1, 0, 1, 0, 0, 1, 0, 0, 0, 0, 1, 1, 0, 1, 0, 0, 1, 1, 0])"
     },
     "metadata": {},
     "execution_count": 192
    }
   ],
   "source": [
    "model_from_pickle.predict(x_test) "
   ]
  },
  {
   "cell_type": "code",
   "execution_count": 193,
   "metadata": {},
   "outputs": [
    {
     "output_type": "execute_result",
     "data": {
      "text/plain": "array([0, 0, 0, 0, 1, 0, 1, 1, 0, 0, 0, 1, 0, 0, 0, 0, 0, 0, 1, 0, 0, 0,\n       0, 0, 0, 0, 0, 0, 1, 0, 0, 0, 0, 1, 0, 0, 0, 0, 0, 0, 1, 0, 1, 0,\n       0, 1, 1, 1, 0, 0, 0, 1, 0, 0, 0, 0, 1, 0, 0, 0, 0, 0, 1, 0, 1, 0,\n       1, 1, 1, 0, 1, 0, 1, 0, 0, 0, 1, 0, 0, 1, 0, 1, 0, 0, 0, 1, 1, 1,\n       1, 1, 1, 0, 1, 0, 1, 1, 0, 1, 1, 0, 0, 0, 1, 0, 1, 1, 0, 1, 0, 1,\n       1, 1, 0, 0, 0, 0, 0, 1, 0, 0, 0, 1, 1, 1, 0, 0, 1, 1, 1, 0, 0, 1,\n       0, 1, 1, 0, 0, 0, 0, 1, 1, 0, 0, 0, 0, 0, 0, 1, 0, 0, 1, 1, 0])"
     },
     "metadata": {},
     "execution_count": 193
    }
   ],
   "source": [
    "y_test"
   ]
  }
 ]
}