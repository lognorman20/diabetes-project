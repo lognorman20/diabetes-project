{
 "metadata": {
  "language_info": {
   "codemirror_mode": {
    "name": "ipython",
    "version": 3
   },
   "file_extension": ".py",
   "mimetype": "text/x-python",
   "name": "python",
   "nbconvert_exporter": "python",
   "pygments_lexer": "ipython3",
   "version": "3.7.4-candidate"
  },
  "orig_nbformat": 2,
  "kernelspec": {
   "name": "python_defaultSpec_1598125937471",
   "display_name": "Python 3.7.4 64-bit"
  }
 },
 "nbformat": 4,
 "nbformat_minor": 2,
 "cells": [
  {
   "cell_type": "code",
   "execution_count": 16,
   "metadata": {},
   "outputs": [],
   "source": [
    "import pandas as pd\n",
    "import numpy as np\n",
    "\n",
    "data = pd.read_csv('diabetes.csv')\n",
    "df = data.copy()\n",
    "import numpy as np"
   ]
  },
  {
   "cell_type": "code",
   "execution_count": 17,
   "metadata": {},
   "outputs": [
    {
     "output_type": "execute_result",
     "data": {
      "text/plain": "   Pregnancies  Glucose  BloodPressure  SkinThickness  Insulin   BMI  \\\n0            6      148             72             35        0  33.6   \n1            1       85             66             29        0  26.6   \n2            8      183             64              0        0  23.3   \n3            1       89             66             23       94  28.1   \n4            0      137             40             35      168  43.1   \n5            5      116             74              0        0  25.6   \n6            3       78             50             32       88  31.0   \n7           10      115              0              0        0  35.3   \n8            2      197             70             45      543  30.5   \n9            8      125             96              0        0   0.0   \n\n   DiabetesPedigreeFunction  Age  Outcome  \n0                     0.627   50        1  \n1                     0.351   31        0  \n2                     0.672   32        1  \n3                     0.167   21        0  \n4                     2.288   33        1  \n5                     0.201   30        0  \n6                     0.248   26        1  \n7                     0.134   29        0  \n8                     0.158   53        1  \n9                     0.232   54        1  ",
      "text/html": "<div>\n<style scoped>\n    .dataframe tbody tr th:only-of-type {\n        vertical-align: middle;\n    }\n\n    .dataframe tbody tr th {\n        vertical-align: top;\n    }\n\n    .dataframe thead th {\n        text-align: right;\n    }\n</style>\n<table border=\"1\" class=\"dataframe\">\n  <thead>\n    <tr style=\"text-align: right;\">\n      <th></th>\n      <th>Pregnancies</th>\n      <th>Glucose</th>\n      <th>BloodPressure</th>\n      <th>SkinThickness</th>\n      <th>Insulin</th>\n      <th>BMI</th>\n      <th>DiabetesPedigreeFunction</th>\n      <th>Age</th>\n      <th>Outcome</th>\n    </tr>\n  </thead>\n  <tbody>\n    <tr>\n      <th>0</th>\n      <td>6</td>\n      <td>148</td>\n      <td>72</td>\n      <td>35</td>\n      <td>0</td>\n      <td>33.6</td>\n      <td>0.627</td>\n      <td>50</td>\n      <td>1</td>\n    </tr>\n    <tr>\n      <th>1</th>\n      <td>1</td>\n      <td>85</td>\n      <td>66</td>\n      <td>29</td>\n      <td>0</td>\n      <td>26.6</td>\n      <td>0.351</td>\n      <td>31</td>\n      <td>0</td>\n    </tr>\n    <tr>\n      <th>2</th>\n      <td>8</td>\n      <td>183</td>\n      <td>64</td>\n      <td>0</td>\n      <td>0</td>\n      <td>23.3</td>\n      <td>0.672</td>\n      <td>32</td>\n      <td>1</td>\n    </tr>\n    <tr>\n      <th>3</th>\n      <td>1</td>\n      <td>89</td>\n      <td>66</td>\n      <td>23</td>\n      <td>94</td>\n      <td>28.1</td>\n      <td>0.167</td>\n      <td>21</td>\n      <td>0</td>\n    </tr>\n    <tr>\n      <th>4</th>\n      <td>0</td>\n      <td>137</td>\n      <td>40</td>\n      <td>35</td>\n      <td>168</td>\n      <td>43.1</td>\n      <td>2.288</td>\n      <td>33</td>\n      <td>1</td>\n    </tr>\n    <tr>\n      <th>5</th>\n      <td>5</td>\n      <td>116</td>\n      <td>74</td>\n      <td>0</td>\n      <td>0</td>\n      <td>25.6</td>\n      <td>0.201</td>\n      <td>30</td>\n      <td>0</td>\n    </tr>\n    <tr>\n      <th>6</th>\n      <td>3</td>\n      <td>78</td>\n      <td>50</td>\n      <td>32</td>\n      <td>88</td>\n      <td>31.0</td>\n      <td>0.248</td>\n      <td>26</td>\n      <td>1</td>\n    </tr>\n    <tr>\n      <th>7</th>\n      <td>10</td>\n      <td>115</td>\n      <td>0</td>\n      <td>0</td>\n      <td>0</td>\n      <td>35.3</td>\n      <td>0.134</td>\n      <td>29</td>\n      <td>0</td>\n    </tr>\n    <tr>\n      <th>8</th>\n      <td>2</td>\n      <td>197</td>\n      <td>70</td>\n      <td>45</td>\n      <td>543</td>\n      <td>30.5</td>\n      <td>0.158</td>\n      <td>53</td>\n      <td>1</td>\n    </tr>\n    <tr>\n      <th>9</th>\n      <td>8</td>\n      <td>125</td>\n      <td>96</td>\n      <td>0</td>\n      <td>0</td>\n      <td>0.0</td>\n      <td>0.232</td>\n      <td>54</td>\n      <td>1</td>\n    </tr>\n  </tbody>\n</table>\n</div>"
     },
     "metadata": {},
     "execution_count": 17
    }
   ],
   "source": [
    "df.head(10)"
   ]
  },
  {
   "cell_type": "code",
   "execution_count": 18,
   "metadata": {},
   "outputs": [
    {
     "output_type": "execute_result",
     "data": {
      "text/plain": "(768, 9)"
     },
     "metadata": {},
     "execution_count": 18
    }
   ],
   "source": [
    "df.shape"
   ]
  },
  {
   "cell_type": "code",
   "execution_count": 19,
   "metadata": {},
   "outputs": [
    {
     "output_type": "execute_result",
     "data": {
      "text/plain": "False"
     },
     "metadata": {},
     "execution_count": 19
    }
   ],
   "source": [
    "data.isnull().values.any()"
   ]
  },
  {
   "cell_type": "code",
   "execution_count": 20,
   "metadata": {},
   "outputs": [
    {
     "output_type": "execute_result",
     "data": {
      "text/plain": "Index(['Pregnancies', 'Glucose', 'BloodPressure', 'SkinThickness', 'Insulin',\n       'BMI', 'DiabetesPedigreeFunction', 'Age', 'Outcome'],\n      dtype='object')"
     },
     "metadata": {},
     "execution_count": 20
    }
   ],
   "source": [
    "df.columns"
   ]
  },
  {
   "cell_type": "code",
   "execution_count": 30,
   "metadata": {},
   "outputs": [],
   "source": [
    "\n",
    "from sklearn.model_selection import train_test_split\n",
    "\n",
    "y = df.Outcome.values\n",
    "X = data.drop(['Outcome'], axis=1).values\n",
    "\n",
    "X_train, X_test, y_train, y_test = train_test_split(X, y, test_size = 0.20, random_state=27)"
   ]
  },
  {
   "cell_type": "code",
   "execution_count": 22,
   "metadata": {
    "tags": []
   },
   "outputs": [
    {
     "output_type": "stream",
     "name": "stdout",
     "text": "\nGlucose Zero Values:\n5\n\nBloodPressure Zero Values:\n35\n\nInsulin Zero Values:\n374\n\nBMI Zero Values:\n11\n"
    }
   ],
   "source": [
    "# Checking to see if there are any missing values that were filled in as zero\n",
    "def checkzero():\n",
    "    columns = ['Glucose', 'BloodPressure', 'Insulin',\n",
    "        'BMI']\n",
    "    for col in columns:\n",
    "        print('\\n' + str(col) + ' Zero Values:')\n",
    "        print(len(df.loc[df[str(col)] == 0]))\n",
    "checkzero()"
   ]
  },
  {
   "cell_type": "code",
   "execution_count": 31,
   "metadata": {},
   "outputs": [],
   "source": [
    "# Now that I know there are still missing values, I need to imptue them. I will come back and hyperparameter this to got the best results.\n",
    "from sklearn.impute import SimpleImputer\n",
    "imp = SimpleImputer(missing_values=0, strategy=\"mean\")\n",
    "X_train = imp.fit_transform(X_train)\n",
    "X_test = imp.fit_transform(X_test)"
   ]
  },
  {
   "cell_type": "code",
   "execution_count": 40,
   "metadata": {},
   "outputs": [
    {
     "output_type": "execute_result",
     "data": {
      "text/plain": "RandomForestClassifier(random_state=10)"
     },
     "metadata": {},
     "execution_count": 40
    }
   ],
   "source": [
    "# building the model\n",
    "from sklearn.ensemble import RandomForestClassifier\n",
    "random_forest_model = RandomForestClassifier(random_state=10)\n",
    "random_forest_model.fit(X_train, y_train.ravel())"
   ]
  },
  {
   "cell_type": "code",
   "execution_count": 41,
   "metadata": {
    "tags": []
   },
   "outputs": [
    {
     "output_type": "stream",
     "name": "stdout",
     "text": "Accuracy = 0.747\n"
    }
   ],
   "source": [
    "predictions = random_forest_model.predict(X_test)\n",
    "\n",
    "from sklearn import metrics\n",
    "\n",
    "print(\"Accuracy = {0:.3f}\".format(metrics.accuracy_score(y_test, predictions)))"
   ]
  },
  {
   "cell_type": "code",
   "execution_count": 43,
   "metadata": {
    "tags": []
   },
   "outputs": [
    {
     "output_type": "stream",
     "name": "stdout",
     "text": "Fitting 4 folds for each of 10 candidates, totalling 40 fits\n[CV] n_estimators=800, min_samples_split=5, min_samples_leaf=5, max_depth=8 \n[Parallel(n_jobs=1)]: Using backend SequentialBackend with 1 concurrent workers.\n[CV]  n_estimators=800, min_samples_split=5, min_samples_leaf=5, max_depth=8, score=0.792, total=   1.3s\n[CV] n_estimators=800, min_samples_split=5, min_samples_leaf=5, max_depth=8 \n[Parallel(n_jobs=1)]: Done   1 out of   1 | elapsed:    1.3s remaining:    0.0s\n[CV]  n_estimators=800, min_samples_split=5, min_samples_leaf=5, max_depth=8, score=0.799, total=   1.3s\n[CV] n_estimators=800, min_samples_split=5, min_samples_leaf=5, max_depth=8 \n[Parallel(n_jobs=1)]: Done   2 out of   2 | elapsed:    2.6s remaining:    0.0s\n[CV]  n_estimators=800, min_samples_split=5, min_samples_leaf=5, max_depth=8, score=0.752, total=   1.3s\n[CV] n_estimators=800, min_samples_split=5, min_samples_leaf=5, max_depth=8 \n[Parallel(n_jobs=1)]: Done   3 out of   3 | elapsed:    4.0s remaining:    0.0s\n[CV]  n_estimators=800, min_samples_split=5, min_samples_leaf=5, max_depth=8, score=0.758, total=   1.3s\n[CV] n_estimators=500, min_samples_split=10, min_samples_leaf=5, max_depth=25 \n[Parallel(n_jobs=1)]: Done   4 out of   4 | elapsed:    5.3s remaining:    0.0s\n[CV]  n_estimators=500, min_samples_split=10, min_samples_leaf=5, max_depth=25, score=0.779, total=   0.8s\n[CV] n_estimators=500, min_samples_split=10, min_samples_leaf=5, max_depth=25 \n[Parallel(n_jobs=1)]: Done   5 out of   5 | elapsed:    6.1s remaining:    0.0s\n[CV]  n_estimators=500, min_samples_split=10, min_samples_leaf=5, max_depth=25, score=0.799, total=   0.8s\n[CV] n_estimators=500, min_samples_split=10, min_samples_leaf=5, max_depth=25 \n[Parallel(n_jobs=1)]: Done   6 out of   6 | elapsed:    6.8s remaining:    0.0s\n[CV]  n_estimators=500, min_samples_split=10, min_samples_leaf=5, max_depth=25, score=0.771, total=   0.8s\n[CV] n_estimators=500, min_samples_split=10, min_samples_leaf=5, max_depth=25 \n[Parallel(n_jobs=1)]: Done   7 out of   7 | elapsed:    7.6s remaining:    0.0s\n[CV]  n_estimators=500, min_samples_split=10, min_samples_leaf=5, max_depth=25, score=0.758, total=   0.8s\n[CV] n_estimators=100, min_samples_split=100, min_samples_leaf=10, max_depth=25 \n[CV]  n_estimators=100, min_samples_split=100, min_samples_leaf=10, max_depth=25, score=0.734, total=   0.1s\n[CV] n_estimators=100, min_samples_split=100, min_samples_leaf=10, max_depth=25 \n[Parallel(n_jobs=1)]: Done   8 out of   8 | elapsed:    8.4s remaining:    0.0s\n[Parallel(n_jobs=1)]: Done   9 out of   9 | elapsed:    8.5s remaining:    0.0s\n[CV]  n_estimators=100, min_samples_split=100, min_samples_leaf=10, max_depth=25, score=0.779, total=   0.1s\n[CV] n_estimators=100, min_samples_split=100, min_samples_leaf=10, max_depth=25 \n[CV]  n_estimators=100, min_samples_split=100, min_samples_leaf=10, max_depth=25, score=0.719, total=   0.1s\n[CV] n_estimators=100, min_samples_split=100, min_samples_leaf=10, max_depth=25 \n[CV]  n_estimators=100, min_samples_split=100, min_samples_leaf=10, max_depth=25, score=0.745, total=   0.1s\n[CV] n_estimators=100, min_samples_split=2, min_samples_leaf=10, max_depth=15 \n[CV]  n_estimators=100, min_samples_split=2, min_samples_leaf=10, max_depth=15, score=0.760, total=   0.1s\n[CV] n_estimators=100, min_samples_split=2, min_samples_leaf=10, max_depth=15 \n[CV]  n_estimators=100, min_samples_split=2, min_samples_leaf=10, max_depth=15, score=0.779, total=   0.2s\n[CV] n_estimators=100, min_samples_split=2, min_samples_leaf=10, max_depth=15 \n[CV]  n_estimators=100, min_samples_split=2, min_samples_leaf=10, max_depth=15, score=0.752, total=   0.1s\n[CV] n_estimators=100, min_samples_split=2, min_samples_leaf=10, max_depth=15 \n[CV]  n_estimators=100, min_samples_split=2, min_samples_leaf=10, max_depth=15, score=0.739, total=   0.2s\n[CV] n_estimators=500, min_samples_split=5, min_samples_leaf=5, max_depth=8 \n[CV]  n_estimators=500, min_samples_split=5, min_samples_leaf=5, max_depth=8, score=0.786, total=   0.7s\n[CV] n_estimators=500, min_samples_split=5, min_samples_leaf=5, max_depth=8 \n[CV]  n_estimators=500, min_samples_split=5, min_samples_leaf=5, max_depth=8, score=0.792, total=   0.8s\n[CV] n_estimators=500, min_samples_split=5, min_samples_leaf=5, max_depth=8 \n[CV]  n_estimators=500, min_samples_split=5, min_samples_leaf=5, max_depth=8, score=0.765, total=   0.7s\n[CV] n_estimators=500, min_samples_split=5, min_samples_leaf=5, max_depth=8 \n[CV]  n_estimators=500, min_samples_split=5, min_samples_leaf=5, max_depth=8, score=0.758, total=   0.8s\n[CV] n_estimators=300, min_samples_split=2, min_samples_leaf=10, max_depth=5 \n[CV]  n_estimators=300, min_samples_split=2, min_samples_leaf=10, max_depth=5, score=0.760, total=   0.4s\n[CV] n_estimators=300, min_samples_split=2, min_samples_leaf=10, max_depth=5 \n[CV]  n_estimators=300, min_samples_split=2, min_samples_leaf=10, max_depth=5, score=0.773, total=   0.4s\n[CV] n_estimators=300, min_samples_split=2, min_samples_leaf=10, max_depth=5 \n[CV]  n_estimators=300, min_samples_split=2, min_samples_leaf=10, max_depth=5, score=0.739, total=   0.4s\n[CV] n_estimators=300, min_samples_split=2, min_samples_leaf=10, max_depth=5 \n[CV]  n_estimators=300, min_samples_split=2, min_samples_leaf=10, max_depth=5, score=0.752, total=   0.4s\n[CV] n_estimators=800, min_samples_split=5, min_samples_leaf=10, max_depth=5 \n[CV]  n_estimators=800, min_samples_split=5, min_samples_leaf=10, max_depth=5, score=0.760, total=   1.1s\n[CV] n_estimators=800, min_samples_split=5, min_samples_leaf=10, max_depth=5 \n[CV]  n_estimators=800, min_samples_split=5, min_samples_leaf=10, max_depth=5, score=0.779, total=   1.1s\n[CV] n_estimators=800, min_samples_split=5, min_samples_leaf=10, max_depth=5 \n[CV]  n_estimators=800, min_samples_split=5, min_samples_leaf=10, max_depth=5, score=0.725, total=   1.2s\n[CV] n_estimators=800, min_samples_split=5, min_samples_leaf=10, max_depth=5 \n[CV]  n_estimators=800, min_samples_split=5, min_samples_leaf=10, max_depth=5, score=0.752, total=   1.2s\n[CV] n_estimators=800, min_samples_split=100, min_samples_leaf=10, max_depth=30 \n[CV]  n_estimators=800, min_samples_split=100, min_samples_leaf=10, max_depth=30, score=0.740, total=   1.1s\n[CV] n_estimators=800, min_samples_split=100, min_samples_leaf=10, max_depth=30 \n[CV]  n_estimators=800, min_samples_split=100, min_samples_leaf=10, max_depth=30, score=0.773, total=   1.1s\n[CV] n_estimators=800, min_samples_split=100, min_samples_leaf=10, max_depth=30 \n[CV]  n_estimators=800, min_samples_split=100, min_samples_leaf=10, max_depth=30, score=0.712, total=   1.1s\n[CV] n_estimators=800, min_samples_split=100, min_samples_leaf=10, max_depth=30 \n[CV]  n_estimators=800, min_samples_split=100, min_samples_leaf=10, max_depth=30, score=0.745, total=   1.1s\n[CV] n_estimators=100, min_samples_split=100, min_samples_leaf=10, max_depth=30 \n[CV]  n_estimators=100, min_samples_split=100, min_samples_leaf=10, max_depth=30, score=0.734, total=   0.1s\n[CV] n_estimators=100, min_samples_split=100, min_samples_leaf=10, max_depth=30 \n[CV]  n_estimators=100, min_samples_split=100, min_samples_leaf=10, max_depth=30, score=0.779, total=   0.1s\n[CV] n_estimators=100, min_samples_split=100, min_samples_leaf=10, max_depth=30 \n[CV]  n_estimators=100, min_samples_split=100, min_samples_leaf=10, max_depth=30, score=0.719, total=   0.1s\n[CV] n_estimators=100, min_samples_split=100, min_samples_leaf=10, max_depth=30 \n[CV]  n_estimators=100, min_samples_split=100, min_samples_leaf=10, max_depth=30, score=0.745, total=   0.1s\n[CV] n_estimators=800, min_samples_split=2, min_samples_leaf=2, max_depth=25 \n[CV]  n_estimators=800, min_samples_split=2, min_samples_leaf=2, max_depth=25, score=0.805, total=   1.2s\n[CV] n_estimators=800, min_samples_split=2, min_samples_leaf=2, max_depth=25 \n[CV]  n_estimators=800, min_samples_split=2, min_samples_leaf=2, max_depth=25, score=0.805, total=   1.3s\n[CV] n_estimators=800, min_samples_split=2, min_samples_leaf=2, max_depth=25 \n[CV]  n_estimators=800, min_samples_split=2, min_samples_leaf=2, max_depth=25, score=0.771, total=   1.3s\n[CV] n_estimators=800, min_samples_split=2, min_samples_leaf=2, max_depth=25 \n[CV]  n_estimators=800, min_samples_split=2, min_samples_leaf=2, max_depth=25, score=0.752, total=   1.2s\n[Parallel(n_jobs=1)]: Done  40 out of  40 | elapsed:   28.9s finished\n"
    },
    {
     "output_type": "execute_result",
     "data": {
      "text/plain": "RandomizedSearchCV(cv=4, estimator=RandomForestClassifier(random_state=10),\n                   param_distributions={'max_depth': [5, 8, 15, 25, 30],\n                                        'min_samples_leaf': [1, 2, 5, 10],\n                                        'min_samples_split': [2, 5, 10, 15,\n                                                              100],\n                                        'n_estimators': [100, 300, 500, 800,\n                                                         1200]},\n                   scoring='accuracy', verbose=10)"
     },
     "metadata": {},
     "execution_count": 43
    }
   ],
   "source": [
    "# Not bad accuracy, but I can do hyperparameters to make this even better.\n",
    "from sklearn.model_selection import RandomizedSearchCV\n",
    "\n",
    "n_estimators = [100, 300, 500, 800, 1200]\n",
    "max_depth = [5, 8, 15, 25, 30]\n",
    "min_samples_split = [2, 5, 10, 15, 100]\n",
    "min_samples_leaf = [1, 2, 5, 10] \n",
    "\n",
    "hyperF = dict(n_estimators = n_estimators, \n",
    "              max_depth = max_depth,  \n",
    "              min_samples_split = min_samples_split, \n",
    "              min_samples_leaf = min_samples_leaf)\n",
    "\n",
    "rs = RandomizedSearchCV(random_forest_model, hyperF, cv=4, scoring='accuracy',verbose=10)\n",
    "rs.fit(X_train, y_train) "
   ]
  },
  {
   "cell_type": "code",
   "execution_count": 44,
   "metadata": {},
   "outputs": [
    {
     "output_type": "execute_result",
     "data": {
      "text/plain": "0.7833163568457686"
     },
     "metadata": {},
     "execution_count": 44
    }
   ],
   "source": [
    "rs.best_score_"
   ]
  },
  {
   "cell_type": "code",
   "execution_count": 49,
   "metadata": {},
   "outputs": [
    {
     "output_type": "execute_result",
     "data": {
      "text/plain": "{'n_estimators': 800,\n 'min_samples_split': 2,\n 'min_samples_leaf': 2,\n 'max_depth': 25}"
     },
     "metadata": {},
     "execution_count": 49
    }
   ],
   "source": [
    "rs.best_params_"
   ]
  },
  {
   "cell_type": "code",
   "execution_count": 50,
   "metadata": {},
   "outputs": [
    {
     "output_type": "execute_result",
     "data": {
      "text/plain": "RandomForestClassifier(max_depth=25, min_samples_leaf=2, n_estimators=800,\n                       random_state=10)"
     },
     "metadata": {},
     "execution_count": 50
    }
   ],
   "source": [
    "# this will be the model that I will use.\n",
    "rs.best_estimator_"
   ]
  },
  {
   "cell_type": "code",
   "execution_count": 61,
   "metadata": {
    "tags": []
   },
   "outputs": [
    {
     "output_type": "execute_result",
     "data": {
      "text/plain": "0.7770833333333333"
     },
     "metadata": {},
     "execution_count": 61
    }
   ],
   "source": [
    "# building the improved model\n",
    "rfm = RandomForestClassifier(max_depth=25, min_samples_leaf=2, n_estimators=800,\n",
    "                       random_state=10)\n",
    "rfm.fit(X_train, y_train.ravel())\n",
    "\n",
    "preds = rfm.predict(X_test)\n",
    "\n",
    "from sklearn.model_selection import cross_val_score\n",
    "\n",
    "score = cross_val_score(rfm, X_test, y_test.ravel(), cv = 10)\n",
    "score.mean()"
   ]
  },
  {
   "cell_type": "code",
   "execution_count": null,
   "metadata": {},
   "outputs": [],
   "source": []
  }
 ]
}