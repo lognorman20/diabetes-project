{
 "metadata": {
  "language_info": {
   "codemirror_mode": {
    "name": "ipython",
    "version": 3
   },
   "file_extension": ".py",
   "mimetype": "text/x-python",
   "name": "python",
   "nbconvert_exporter": "python",
   "pygments_lexer": "ipython3",
   "version": "3.7.4-candidate"
  },
  "orig_nbformat": 2,
  "kernelspec": {
   "name": "python_defaultSpec_1597538573532",
   "display_name": "Python 3.7.4 64-bit"
  }
 },
 "nbformat": 4,
 "nbformat_minor": 2,
 "cells": [
  {
   "cell_type": "markdown",
   "metadata": {},
   "source": [
    "# Model Creation\n",
    "\n",
    "### In this file, I will dive into model creation. I will use several different models to predict if a person has diabetes and hyperparameter them as much as I know how."
   ]
  },
  {
   "cell_type": "markdown",
   "metadata": {},
   "source": [
    "## Setup"
   ]
  },
  {
   "cell_type": "code",
   "execution_count": 15,
   "metadata": {},
   "outputs": [],
   "source": [
    "import pandas as pd\n",
    "import numpy as np\n",
    "import itertools\n",
    "import matplotlib.pyplot as plt\n",
    "import numpy as np\n",
    "import pandas as pd\n",
    "\n",
    "from sklearn.preprocessing import LabelEncoder\n",
    "from sklearn.model_selection import train_test_split\n",
    "from sklearn import metrics\n",
    "from sklearn.model_selection import GridSearchCV\n",
    "from sklearn.feature_selection import SelectKBest, f_classif\n",
    "from sklearn.metrics import accuracy_score\n",
    "from sklearn.linear_model import LogisticRegression\n",
    "from sklearn.feature_selection import SelectFromModel\n",
    "from sklearn.metrics import classification_report\n",
    "from sklearn.linear_model import RidgeClassifier\n",
    "from sklearn.ensemble import BaggingClassifier\n",
    "from sklearn.naive_bayes import GaussianNB\n",
    "from sklearn.svm import LinearSVC\n",
    "from sklearn.model_selection import RepeatedStratifiedKFold\n",
    "from sklearn.model_selection import train_test_split\n",
    "from sklearn.tree import DecisionTreeClassifier\n",
    "from sklearn.ensemble import RandomForestClassifier\n",
    "from sklearn.neighbors import KNeighborsClassifier\n",
    "from sklearn.svm import SVC\n",
    "from xgboost import XGBClassifier"
   ]
  },
  {
   "cell_type": "code",
   "execution_count": 5,
   "metadata": {},
   "outputs": [
    {
     "output_type": "execute_result",
     "data": {
      "text/plain": "   Pregnancies  Glucose  BloodPressure  SkinThickness  Insulin   BMI  \\\n0            6      148             72             35        0  33.6   \n1            1       85             66             29        0  26.6   \n2            8      183             64              0        0  23.3   \n3            1       89             66             23       94  28.1   \n4            0      137             40             35      168  43.1   \n\n   DiabetesPedigreeFunction  Age  Outcome  \n0                     0.627   50        1  \n1                     0.351   31        0  \n2                     0.672   32        1  \n3                     0.167   21        0  \n4                     2.288   33        1  ",
      "text/html": "<div>\n<style scoped>\n    .dataframe tbody tr th:only-of-type {\n        vertical-align: middle;\n    }\n\n    .dataframe tbody tr th {\n        vertical-align: top;\n    }\n\n    .dataframe thead th {\n        text-align: right;\n    }\n</style>\n<table border=\"1\" class=\"dataframe\">\n  <thead>\n    <tr style=\"text-align: right;\">\n      <th></th>\n      <th>Pregnancies</th>\n      <th>Glucose</th>\n      <th>BloodPressure</th>\n      <th>SkinThickness</th>\n      <th>Insulin</th>\n      <th>BMI</th>\n      <th>DiabetesPedigreeFunction</th>\n      <th>Age</th>\n      <th>Outcome</th>\n    </tr>\n  </thead>\n  <tbody>\n    <tr>\n      <th>0</th>\n      <td>6</td>\n      <td>148</td>\n      <td>72</td>\n      <td>35</td>\n      <td>0</td>\n      <td>33.6</td>\n      <td>0.627</td>\n      <td>50</td>\n      <td>1</td>\n    </tr>\n    <tr>\n      <th>1</th>\n      <td>1</td>\n      <td>85</td>\n      <td>66</td>\n      <td>29</td>\n      <td>0</td>\n      <td>26.6</td>\n      <td>0.351</td>\n      <td>31</td>\n      <td>0</td>\n    </tr>\n    <tr>\n      <th>2</th>\n      <td>8</td>\n      <td>183</td>\n      <td>64</td>\n      <td>0</td>\n      <td>0</td>\n      <td>23.3</td>\n      <td>0.672</td>\n      <td>32</td>\n      <td>1</td>\n    </tr>\n    <tr>\n      <th>3</th>\n      <td>1</td>\n      <td>89</td>\n      <td>66</td>\n      <td>23</td>\n      <td>94</td>\n      <td>28.1</td>\n      <td>0.167</td>\n      <td>21</td>\n      <td>0</td>\n    </tr>\n    <tr>\n      <th>4</th>\n      <td>0</td>\n      <td>137</td>\n      <td>40</td>\n      <td>35</td>\n      <td>168</td>\n      <td>43.1</td>\n      <td>2.288</td>\n      <td>33</td>\n      <td>1</td>\n    </tr>\n  </tbody>\n</table>\n</div>"
     },
     "metadata": {},
     "execution_count": 5
    }
   ],
   "source": [
    "data = pd.read_csv('diabetes.csv')\n",
    "df = data.copy()\n",
    "df.head()"
   ]
  },
  {
   "cell_type": "code",
   "execution_count": 6,
   "metadata": {},
   "outputs": [],
   "source": [
    "y = df.Outcome\n",
    "X = data.drop(['Outcome'], axis=1)\n",
    "\n",
    "X_train, X_valid, y_train, y_valid = train_test_split(X, y, train_size=0.8, test_size=0.2, random_state=27)"
   ]
  },
  {
   "cell_type": "markdown",
   "metadata": {},
   "source": [
    "## Setting up & testing the different models"
   ]
  },
  {
   "cell_type": "code",
   "execution_count": 21,
   "metadata": {
    "tags": []
   },
   "outputs": [
    {
     "output_type": "stream",
     "name": "stdout",
     "text": "The accuracy of model DecisionTreeClassifier is 0.53\n\n              precision    recall  f1-score   support\n\n           0       0.65      0.70      0.68       107\n           1       0.18      0.15      0.16        47\n\n    accuracy                           0.53       154\n   macro avg       0.42      0.42      0.42       154\nweighted avg       0.51      0.53      0.52       154\n\n\n\nThe accuracy of model RandomForestClassifier is 0.65\n\n              precision    recall  f1-score   support\n\n           0       0.69      0.90      0.78       107\n           1       0.27      0.09      0.13        47\n\n    accuracy                           0.65       154\n   macro avg       0.48      0.49      0.45       154\nweighted avg       0.56      0.65      0.58       154\n\n\n\nThe accuracy of model KNeighborsClassifier is 0.58\n\n              precision    recall  f1-score   support\n\n           0       0.69      0.72      0.70       107\n           1       0.29      0.26      0.27        47\n\n    accuracy                           0.58       154\n   macro avg       0.49      0.49      0.49       154\nweighted avg       0.56      0.58      0.57       154\n\n\n\nThe accuracy of model LinearSVC is 0.69\n\n              precision    recall  f1-score   support\n\n           0       0.69      0.99      0.82       107\n           1       0.00      0.00      0.00        47\n\n    accuracy                           0.69       154\n   macro avg       0.35      0.50      0.41       154\nweighted avg       0.48      0.69      0.57       154\n\n\n\nThe accuracy of model LogisticRegression is 0.69\n\n              precision    recall  f1-score   support\n\n           0       0.69      1.00      0.82       107\n           1       0.00      0.00      0.00        47\n\n    accuracy                           0.69       154\n   macro avg       0.35      0.50      0.41       154\nweighted avg       0.48      0.69      0.57       154\n\n\n\nThe accuracy of model XGBClassifier is 0.53\n\n              precision    recall  f1-score   support\n\n           0       0.65      0.70      0.68       107\n           1       0.18      0.15      0.16        47\n\n    accuracy                           0.53       154\n   macro avg       0.42      0.42      0.42       154\nweighted avg       0.51      0.53      0.52       154\n\n\n\nThe accuracy of model GaussianNB is 0.68\n\n              precision    recall  f1-score   support\n\n           0       0.70      0.95      0.81       107\n           1       0.38      0.06      0.11        47\n\n    accuracy                           0.68       154\n   macro avg       0.54      0.51      0.46       154\nweighted avg       0.60      0.68      0.59       154\n\n\n\nThe accuracy of model BaggingClassifier is 0.63\n\n              precision    recall  f1-score   support\n\n           0       0.69      0.84      0.76       107\n           1       0.29      0.15      0.20        47\n\n    accuracy                           0.63       154\n   macro avg       0.49      0.50      0.48       154\nweighted avg       0.57      0.63      0.59       154\n\n\n\nThe accuracy of model RidgeClassifier is 0.69\n\n              precision    recall  f1-score   support\n\n           0       0.69      1.00      0.82       107\n           1       0.00      0.00      0.00        47\n\n    accuracy                           0.69       154\n   macro avg       0.35      0.50      0.41       154\nweighted avg       0.48      0.69      0.57       154\n\n\n\n"
    }
   ],
   "source": [
    "# These are the models that I have chosen to ues. I will choose the top performing models to compare\n",
    "tree = DecisionTreeClassifier(random_state=27) \n",
    "forest = RandomForestClassifier(random_state=27)\n",
    "knn = KNeighborsClassifier()\n",
    "lreg = LogisticRegression(random_state=27)\n",
    "xboost = XGBClassifier(random_state=27)\n",
    "gnb = GaussianNB()\n",
    "bgc = BaggingClassifier()\n",
    "ridge = RidgeClassifier()\n",
    "svc = LinearSVC(C=2.0)\n",
    "\n",
    "models= [tree, forest, knn, svc, lreg, xboost, gnb, bgc, ridge]\n",
    "\n",
    "for model in models:\n",
    "    model.fit(X_train, y_train) \n",
    "    y_pred= model.predict(X_valid) \n",
    "    accuracy= accuracy_score(y_valid, y_pred) \n",
    "    clf_report= classification_report(y_valid, y_pred) \n",
    "    print(f\"The accuracy of model {type(model).__name__} is {accuracy:.2f}\" + '\\n')\n",
    "    print(clf_report)\n",
    "    print(\"\\n\")"
   ]
  },
  {
   "cell_type": "code",
   "execution_count": null,
   "metadata": {},
   "outputs": [],
   "source": []
  },
  {
   "cell_type": "markdown",
   "metadata": {},
   "source": [
    "# Hyperparameters"
   ]
  },
  {
   "cell_type": "code",
   "execution_count": null,
   "metadata": {},
   "outputs": [],
   "source": []
  }
 ]
}
